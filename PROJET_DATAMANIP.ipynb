{
 "cells": [
  {
   "cell_type": "markdown",
   "id": "5d38e202",
   "metadata": {},
   "source": [
    "# Importation des library necessaire"
   ]
  },
  {
   "cell_type": "code",
   "execution_count": 1,
   "id": "d205240e",
   "metadata": {},
   "outputs": [],
   "source": [
    "import pandas as pd\n",
    "import numpy as np\n",
    "import xlwt"
   ]
  },
  {
   "cell_type": "markdown",
   "id": "a3779398",
   "metadata": {},
   "source": [
    "# Ouverture du fichier txt sous format .csv"
   ]
  },
  {
   "cell_type": "code",
   "execution_count": 2,
   "id": "9435865a",
   "metadata": {},
   "outputs": [],
   "source": [
    "df = pd.read_csv('BF.txt', sep=\"\\t\", header=None)"
   ]
  },
  {
   "cell_type": "markdown",
   "id": "3b783801",
   "metadata": {},
   "source": [
    "# Ajout des noms de colonnes au dataframe DF"
   ]
  },
  {
   "cell_type": "code",
   "execution_count": 3,
   "id": "ff7917c1",
   "metadata": {},
   "outputs": [],
   "source": [
    "df.columns=[\"geonameid\",\"asciiname\",\"name\",\"alternatenames\",\"latitude\",\"longitude\",\"feature class\",\"feature code\",\"country code\",\"cc2\",\"admin1 code\",\"admin2 code\",\"admin3 code\",\"admin4 code\",\"population\",\"elevation\",\"dem\",\"timezone\",\"modification date\"]"
   ]
  },
  {
   "cell_type": "code",
   "execution_count": 4,
   "id": "137ea878",
   "metadata": {},
   "outputs": [
    {
     "name": "stdout",
     "output_type": "stream",
     "text": [
      "       geonameid  asciiname       name alternatenames  latitude  longitude  \\\n",
      "0        2353158   Zyonguen   Zyonguen            NaN  12.36667   -0.45000   \n",
      "1        2353159  Zyiliwèlè  Zyiliwele            NaN  12.38333   -2.73333   \n",
      "2        2353160     Zyanko     Zyanko            NaN  12.78333   -0.41667   \n",
      "3        2353161      Zouta      Zouta            NaN  13.14908   -1.28197   \n",
      "4        2353162  Zourtenga  Zourtenga            NaN  12.95741   -1.28745   \n",
      "...          ...        ...        ...            ...       ...        ...   \n",
      "11292   12358656  Timambari  Timambari            NaN  11.84209    1.67023   \n",
      "11293   12358657  Nagbingou  Nagbingou            NaN  13.55244   -0.46760   \n",
      "11294   12358665   Niamango   Niamango            NaN   9.82967   -4.33708   \n",
      "11295   12358676      Sella      Sella            NaN  14.35699    0.28666   \n",
      "11296   12358677    Kiefaye    Kiefaye            NaN  13.78260   -1.58790   \n",
      "\n",
      "      feature class feature code country code  cc2 admin1 code  admin2 code  \\\n",
      "0                 P          PPL           BF  NaN          04          NaN   \n",
      "1                 P          PPL           BF  NaN          06          NaN   \n",
      "2                 P          PPL           BF  NaN          05          NaN   \n",
      "3                 P          PPL           BF  NaN          05         70.0   \n",
      "4                 P          PPL           BF  NaN          05          NaN   \n",
      "...             ...          ...          ...  ...         ...          ...   \n",
      "11292             P          PPL           BF  NaN          08         42.0   \n",
      "11293             P          PPL           BF  NaN          05         64.0   \n",
      "11294             P          PPL           BF  NaN          02         55.0   \n",
      "11295             P          PPL           BF  NaN          12         71.0   \n",
      "11296             P          PPL           BF  NaN          05         15.0   \n",
      "\n",
      "       admin3 code  admin4 code  population  elevation  dem  \\\n",
      "0              NaN          NaN           0        NaN  293   \n",
      "1              NaN          NaN           0        NaN  277   \n",
      "2              NaN          NaN           0        NaN  301   \n",
      "3              NaN          NaN           0        NaN  306   \n",
      "4              NaN          NaN           0        NaN  290   \n",
      "...            ...          ...         ...        ...  ...   \n",
      "11292          NaN          NaN           0        NaN  298   \n",
      "11293          NaN          NaN           0        NaN  275   \n",
      "11294          NaN          NaN           0        NaN  299   \n",
      "11295          NaN          NaN           0        NaN  292   \n",
      "11296          NaN          NaN           0        NaN  320   \n",
      "\n",
      "                 timezone modification date  \n",
      "0      Africa/Ouagadougou        2012-06-05  \n",
      "1      Africa/Ouagadougou        2012-06-05  \n",
      "2      Africa/Ouagadougou        2012-06-05  \n",
      "3      Africa/Ouagadougou        2010-07-31  \n",
      "4      Africa/Ouagadougou        2018-09-05  \n",
      "...                   ...               ...  \n",
      "11292  Africa/Ouagadougou        2021-10-23  \n",
      "11293  Africa/Ouagadougou        2021-10-23  \n",
      "11294  Africa/Ouagadougou        2021-10-24  \n",
      "11295       Africa/Niamey        2021-10-25  \n",
      "11296  Africa/Ouagadougou        2021-10-25  \n",
      "\n",
      "[11297 rows x 19 columns]\n"
     ]
    }
   ],
   "source": [
    "print(df)"
   ]
  },
  {
   "cell_type": "markdown",
   "id": "483df253",
   "metadata": {},
   "source": [
    "# Suppresion de certaines colonnes "
   ]
  },
  {
   "cell_type": "code",
   "execution_count": 5,
   "id": "0cf3e29c",
   "metadata": {},
   "outputs": [],
   "source": [
    "df.drop([\"asciiname\",\"alternatenames\",\"feature class\",\"feature code\",\"country code\",\"cc2\",\"admin1 code\",\"admin2 code\",\"admin3 code\",\"admin4 code\",\"population\",\"elevation\",\"dem\",\"timezone\",\"modification date\"], axis='columns', inplace=True)"
   ]
  },
  {
   "cell_type": "code",
   "execution_count": 6,
   "id": "eec7099f",
   "metadata": {},
   "outputs": [
    {
     "name": "stdout",
     "output_type": "stream",
     "text": [
      "       geonameid       name  latitude  longitude\n",
      "0        2353158   Zyonguen  12.36667   -0.45000\n",
      "1        2353159  Zyiliwele  12.38333   -2.73333\n",
      "2        2353160     Zyanko  12.78333   -0.41667\n",
      "3        2353161      Zouta  13.14908   -1.28197\n",
      "4        2353162  Zourtenga  12.95741   -1.28745\n",
      "...          ...        ...       ...        ...\n",
      "11292   12358656  Timambari  11.84209    1.67023\n",
      "11293   12358657  Nagbingou  13.55244   -0.46760\n",
      "11294   12358665   Niamango   9.82967   -4.33708\n",
      "11295   12358676      Sella  14.35699    0.28666\n",
      "11296   12358677    Kiefaye  13.78260   -1.58790\n",
      "\n",
      "[11297 rows x 4 columns]\n"
     ]
    }
   ],
   "source": [
    "print(df)"
   ]
  },
  {
   "cell_type": "markdown",
   "id": "1efff158",
   "metadata": {},
   "source": [
    "# Renommage des colonnes "
   ]
  },
  {
   "cell_type": "code",
   "execution_count": 7,
   "id": "d28b1370",
   "metadata": {},
   "outputs": [],
   "source": [
    "df2= df.rename(columns = {'geonameid':'ID', 'name':'location_name', 'latitude':'lat','longitude':'long'}, inplace = False)"
   ]
  },
  {
   "cell_type": "code",
   "execution_count": 8,
   "id": "d7606039",
   "metadata": {},
   "outputs": [
    {
     "name": "stdout",
     "output_type": "stream",
     "text": [
      "             ID location_name       lat     long\n",
      "0       2353158      Zyonguen  12.36667 -0.45000\n",
      "1       2353159     Zyiliwele  12.38333 -2.73333\n",
      "2       2353160        Zyanko  12.78333 -0.41667\n",
      "3       2353161         Zouta  13.14908 -1.28197\n",
      "4       2353162     Zourtenga  12.95741 -1.28745\n",
      "...         ...           ...       ...      ...\n",
      "11292  12358656     Timambari  11.84209  1.67023\n",
      "11293  12358657     Nagbingou  13.55244 -0.46760\n",
      "11294  12358665      Niamango   9.82967 -4.33708\n",
      "11295  12358676         Sella  14.35699  0.28666\n",
      "11296  12358677       Kiefaye  13.78260 -1.58790\n",
      "\n",
      "[11297 rows x 4 columns]\n"
     ]
    }
   ],
   "source": [
    "print(df2)"
   ]
  },
  {
   "cell_type": "markdown",
   "id": "def2a9a9",
   "metadata": {},
   "source": [
    "# Enregistrement sous format csv du nom 'burkina_location.csv'"
   ]
  },
  {
   "cell_type": "code",
   "execution_count": 9,
   "id": "00c119ef",
   "metadata": {},
   "outputs": [],
   "source": [
    "df2.to_csv(\"burkina_location.csv\")"
   ]
  },
  {
   "cell_type": "code",
   "execution_count": 10,
   "id": "a9d95ddf",
   "metadata": {},
   "outputs": [],
   "source": [
    "df3 = pd.read_csv(\"burkina_location.csv\")"
   ]
  },
  {
   "cell_type": "code",
   "execution_count": 11,
   "id": "63e57252",
   "metadata": {},
   "outputs": [
    {
     "name": "stdout",
     "output_type": "stream",
     "text": [
      "       Unnamed: 0        ID location_name       lat     long\n",
      "0               0   2353158      Zyonguen  12.36667 -0.45000\n",
      "1               1   2353159     Zyiliwele  12.38333 -2.73333\n",
      "2               2   2353160        Zyanko  12.78333 -0.41667\n",
      "3               3   2353161         Zouta  13.14908 -1.28197\n",
      "4               4   2353162     Zourtenga  12.95741 -1.28745\n",
      "...           ...       ...           ...       ...      ...\n",
      "11292       11292  12358656     Timambari  11.84209  1.67023\n",
      "11293       11293  12358657     Nagbingou  13.55244 -0.46760\n",
      "11294       11294  12358665      Niamango   9.82967 -4.33708\n",
      "11295       11295  12358676         Sella  14.35699  0.28666\n",
      "11296       11296  12358677       Kiefaye  13.78260 -1.58790\n",
      "\n",
      "[11297 rows x 5 columns]\n"
     ]
    }
   ],
   "source": [
    "print(df3)"
   ]
  },
  {
   "cell_type": "markdown",
   "id": "4f21b80c",
   "metadata": {},
   "source": [
    "# Filtrage des zones du nom de Gounghin"
   ]
  },
  {
   "cell_type": "code",
   "execution_count": 12,
   "id": "2bb8c300",
   "metadata": {},
   "outputs": [],
   "source": [
    "df4 = df3[(df3['location_name']=='Gounghin')]"
   ]
  },
  {
   "cell_type": "code",
   "execution_count": 13,
   "id": "262a24af",
   "metadata": {},
   "outputs": [
    {
     "name": "stdout",
     "output_type": "stream",
     "text": [
      "       Unnamed: 0        ID location_name       lat     long\n",
      "147           147   2353306      Gounghin  12.06677 -1.42134\n",
      "7256         7256   2360473      Gounghin  12.62488 -1.36398\n",
      "10227       10227   2570204      Gounghin  12.31436 -1.37900\n",
      "10688       10688  10342749      Gounghin  12.06667 -0.15000\n",
      "10808       10808  11900680      Gounghin  12.35895 -1.54442\n"
     ]
    }
   ],
   "source": [
    "print(df4)"
   ]
  },
  {
   "cell_type": "markdown",
   "id": "c7d3ea0c",
   "metadata": {},
   "source": [
    "# Enregistrement sous format csv du nom 'gounghin.csv'"
   ]
  },
  {
   "cell_type": "code",
   "execution_count": 14,
   "id": "404b55c4",
   "metadata": {},
   "outputs": [],
   "source": [
    "df4.to_csv(\"gounghin.csv\")"
   ]
  },
  {
   "cell_type": "markdown",
   "id": "04d84ccb",
   "metadata": {},
   "source": [
    "# Filtrage des noms de lieux sont compris entre 'A' et 'P'"
   ]
  },
  {
   "cell_type": "code",
   "execution_count": 15,
   "id": "78d6ccb2",
   "metadata": {},
   "outputs": [],
   "source": [
    "list=(\"A\",\"B\",\"C\",\"D\",\"E\",\"F\",\"G\",\"H\",\"I\",\"J\",\"K\",\"L\",\"M\",\"N\",\"O\",\"P\")"
   ]
  },
  {
   "cell_type": "code",
   "execution_count": 16,
   "id": "9b91914b",
   "metadata": {},
   "outputs": [],
   "source": [
    "df7 = df3[df3.location_name.str.startswith(list)]\n",
    "df7=df7.sort_values('location_name')"
   ]
  },
  {
   "cell_type": "markdown",
   "id": "a2479837",
   "metadata": {},
   "source": [
    "# la latitude, la longitude minimale et les noms de lieux correspondants dans le fichier burkina_location.csv"
   ]
  },
  {
   "cell_type": "code",
   "execution_count": 17,
   "id": "89f13739",
   "metadata": {},
   "outputs": [],
   "source": [
    "df31 = df3.groupby(['location_name'])\n",
    "df8 = df31.agg(latitude_minimale=('lat', np.min), longitude_minimale=('long', np.min))"
   ]
  },
  {
   "cell_type": "code",
   "execution_count": 18,
   "id": "f4926ab5",
   "metadata": {},
   "outputs": [
    {
     "data": {
      "text/html": [
       "<div>\n",
       "<style scoped>\n",
       "    .dataframe tbody tr th:only-of-type {\n",
       "        vertical-align: middle;\n",
       "    }\n",
       "\n",
       "    .dataframe tbody tr th {\n",
       "        vertical-align: top;\n",
       "    }\n",
       "\n",
       "    .dataframe thead th {\n",
       "        text-align: right;\n",
       "    }\n",
       "</style>\n",
       "<table border=\"1\" class=\"dataframe\">\n",
       "  <thead>\n",
       "    <tr style=\"text-align: right;\">\n",
       "      <th></th>\n",
       "      <th>latitude_minimale</th>\n",
       "      <th>longitude_minimale</th>\n",
       "    </tr>\n",
       "    <tr>\n",
       "      <th>location_name</th>\n",
       "      <th></th>\n",
       "      <th></th>\n",
       "    </tr>\n",
       "  </thead>\n",
       "  <tbody>\n",
       "    <tr>\n",
       "      <th>1200 Logements</th>\n",
       "      <td>12.36888</td>\n",
       "      <td>-1.49750</td>\n",
       "    </tr>\n",
       "    <tr>\n",
       "      <th>Abanda</th>\n",
       "      <td>15.06808</td>\n",
       "      <td>-0.59805</td>\n",
       "    </tr>\n",
       "    <tr>\n",
       "      <th>Abanga</th>\n",
       "      <td>13.32429</td>\n",
       "      <td>0.31151</td>\n",
       "    </tr>\n",
       "    <tr>\n",
       "      <th>Abassi</th>\n",
       "      <td>12.27728</td>\n",
       "      <td>-1.13662</td>\n",
       "    </tr>\n",
       "    <tr>\n",
       "      <th>Abaye</th>\n",
       "      <td>13.44080</td>\n",
       "      <td>-3.90190</td>\n",
       "    </tr>\n",
       "    <tr>\n",
       "      <th>...</th>\n",
       "      <td>...</td>\n",
       "      <td>...</td>\n",
       "    </tr>\n",
       "    <tr>\n",
       "      <th>Zourtenga</th>\n",
       "      <td>12.95741</td>\n",
       "      <td>-1.28745</td>\n",
       "    </tr>\n",
       "    <tr>\n",
       "      <th>Zouta</th>\n",
       "      <td>13.14908</td>\n",
       "      <td>-1.28197</td>\n",
       "    </tr>\n",
       "    <tr>\n",
       "      <th>Zyanko</th>\n",
       "      <td>12.78333</td>\n",
       "      <td>-0.41667</td>\n",
       "    </tr>\n",
       "    <tr>\n",
       "      <th>Zyiliwele</th>\n",
       "      <td>12.38333</td>\n",
       "      <td>-2.73333</td>\n",
       "    </tr>\n",
       "    <tr>\n",
       "      <th>Zyonguen</th>\n",
       "      <td>12.36667</td>\n",
       "      <td>-0.45000</td>\n",
       "    </tr>\n",
       "  </tbody>\n",
       "</table>\n",
       "<p>9611 rows × 2 columns</p>\n",
       "</div>"
      ],
      "text/plain": [
       "                latitude_minimale  longitude_minimale\n",
       "location_name                                        \n",
       "1200 Logements           12.36888            -1.49750\n",
       "Abanda                   15.06808            -0.59805\n",
       "Abanga                   13.32429             0.31151\n",
       "Abassi                   12.27728            -1.13662\n",
       "Abaye                    13.44080            -3.90190\n",
       "...                           ...                 ...\n",
       "Zourtenga                12.95741            -1.28745\n",
       "Zouta                    13.14908            -1.28197\n",
       "Zyanko                   12.78333            -0.41667\n",
       "Zyiliwele                12.38333            -2.73333\n",
       "Zyonguen                 12.36667            -0.45000\n",
       "\n",
       "[9611 rows x 2 columns]"
      ]
     },
     "execution_count": 18,
     "metadata": {},
     "output_type": "execute_result"
    }
   ],
   "source": [
    "df8"
   ]
  },
  {
   "cell_type": "markdown",
   "id": "5736b640",
   "metadata": {},
   "source": [
    "# Identification des lieux dont les coordonnées sont comprises entre (lat >= 11 et lon <= 0.5)"
   ]
  },
  {
   "cell_type": "code",
   "execution_count": 19,
   "id": "cc2aec33",
   "metadata": {},
   "outputs": [],
   "source": [
    "df5= df3[(df3['lat'] >= 11) & (df3['long'] <=0.5) ]"
   ]
  },
  {
   "cell_type": "code",
   "execution_count": 20,
   "id": "47927cdc",
   "metadata": {},
   "outputs": [
    {
     "name": "stdout",
     "output_type": "stream",
     "text": [
      "0         Zyonguen\n",
      "1        Zyiliwele\n",
      "2           Zyanko\n",
      "3            Zouta\n",
      "4        Zourtenga\n",
      "           ...    \n",
      "11288         Kate\n",
      "11290     Koulhole\n",
      "11293    Nagbingou\n",
      "11295        Sella\n",
      "11296      Kiefaye\n",
      "Name: location_name, Length: 9026, dtype: object\n"
     ]
    }
   ],
   "source": [
    "print(df5.location_name)"
   ]
  },
  {
   "cell_type": "markdown",
   "id": "7c57d29b",
   "metadata": {},
   "source": [
    "# Etape 4 : Excel"
   ]
  },
  {
   "cell_type": "code",
   "execution_count": 21,
   "id": "1f48076b",
   "metadata": {},
   "outputs": [],
   "source": [
    "with pd.ExcelWriter('mini_projet.xlsx') as writer:\n",
    "    df4.to_excel(writer, sheet_name='gounghin')\n",
    "    df7.to_excel(writer, sheet_name='A_to_P')"
   ]
  },
  {
   "cell_type": "code",
   "execution_count": null,
   "id": "ae749229",
   "metadata": {},
   "outputs": [],
   "source": []
  }
 ],
 "metadata": {
  "kernelspec": {
   "display_name": "Python 3",
   "language": "python",
   "name": "python3"
  },
  "language_info": {
   "codemirror_mode": {
    "name": "ipython",
    "version": 3
   },
   "file_extension": ".py",
   "mimetype": "text/x-python",
   "name": "python",
   "nbconvert_exporter": "python",
   "pygments_lexer": "ipython3",
   "version": "3.8.8"
  }
 },
 "nbformat": 4,
 "nbformat_minor": 5
}
